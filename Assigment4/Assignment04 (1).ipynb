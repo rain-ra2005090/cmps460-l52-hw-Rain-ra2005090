{
 "cells": [
  {
   "cell_type": "markdown",
   "metadata": {},
   "source": [
    "### Assignment 4, Due Thursday, 9 May, 2024 @ 11:59PM\n",
    "\n",
    "### Name: ---RAIN ALKAI----     ID: --202005090--------"
   ]
  },
  {
   "cell_type": "code",
   "execution_count": 3,
   "metadata": {},
   "outputs": [],
   "source": [
    "import numpy as np\n",
    "import matplotlib.pyplot as plt\n",
    "import pandas as pd\n",
    "\n",
    "import torch\n",
    "import torch.nn as nn\n",
    "from sklearn.datasets import load_iris\n",
    "from sklearn.model_selection import train_test_split\n",
    "from sklearn.preprocessing import StandardScaler\n",
    "\n",
    "torch.set_printoptions(precision=4, sci_mode=False)"
   ]
  },
  {
   "cell_type": "markdown",
   "metadata": {},
   "source": [
    "# Q1 Gradient Descent [25 pts]\n",
    "1.1) [5pts] Write function `f(x)` that returns the value of the function $f(x) = 3x^2 + 12x$ \\\n",
    "Test the function by calling it with $x=3$ and print the result"
   ]
  },
  {
   "cell_type": "code",
   "execution_count": 14,
   "metadata": {},
   "outputs": [
    {
     "name": "stdout",
     "output_type": "stream",
     "text": [
      "Result: 63\n"
     ]
    }
   ],
   "source": [
    "# Write your code here\n",
    "def f(x):\n",
    "    return 3 * x**2 + 12 * x\n",
    "\n",
    "\n",
    "result = f(3)\n",
    "print(\"Result:\", result)\n"
   ]
  },
  {
   "cell_type": "markdown",
   "metadata": {},
   "source": [
    "1.2) [5pts] Plot the function $f(x)$ in the range $-10 \\leq x \\leq 10$\n"
   ]
  },
  {
   "cell_type": "code",
   "execution_count": 24,
   "metadata": {},
   "outputs": [
    {
     "data": {
      "image/png": "[encoded data removed]",
      "text/plain": [
       "<Figure size 640x480 with 1 Axes>"
      ]
     },
     "metadata": {},
     "output_type": "display_data"
    }
   ],
   "source": [
    "# Write your code here\n",
    "import numpy as np\n",
    "import matplotlib.pyplot as plt\n",
    "\n",
    "# Define the function f(x)\n",
    "def f(x):\n",
    "    return 3 * x**2 + 12 * x\n",
    "\n",
    "\n",
    "x_values = np.linspace(-10, 10, 100)\n",
    "\n",
    "y_values = f(x_values)\n",
    "\n",
    "# Plot the function\n",
    "plt.plot(x_values, y_values, label='f(x) = 3x^2 + 12x')\n",
    "plt.xlabel('x')\n",
    "plt.ylabel('f(x)')\n",
    "plt.title('Plot of f(x)')\n",
    "plt.grid(True)\n",
    "plt.legend()\n",
    "plt.show()\n"
   ]
  },
  {
   "cell_type": "markdown",
   "metadata": {},
   "source": [
    "1.3) [5pts] Write function `df(x)` that returns the value of the derivative of the function $f(x)\\\n",
    "Test the df function by calling it with $x=3$ and print the result"
   ]
  },
  {
   "cell_type": "code",
   "execution_count": 33,
   "metadata": {},
   "outputs": [
    {
     "name": "stdout",
     "output_type": "stream",
     "text": [
      "Result: 30\n"
     ]
    }
   ],
   "source": [
    "# Write your code here\n",
    "def df(x):\n",
    "    return 6 * x + 12\n",
    "\n",
    "\n",
    "result = df(3)\n",
    "print(\"Result:\", result)\n"
   ]
  },
  {
   "cell_type": "markdown",
   "metadata": {},
   "source": [
    "1.4) [10pts] Write a gradient_descent function that finds the minimum for the function $f(x)$.\n",
    "The function should take the following arguments:\n",
    "- `x` : initial guess\n",
    "- `learning_rate` : learning rate with default value of 0.1\n",
    "- `n_iters` : number of iterations with default value of 100\n",
    "\n",
    "Test the method by calling it with $x=10$ and print the result"
   ]
  },
  {
   "cell_type": "code",
   "execution_count": 41,
   "metadata": {},
   "outputs": [
    {
     "name": "stdout",
     "output_type": "stream",
     "text": [
      "Minimum x: -2.0\n",
      "Minimum f(x): -12.0\n"
     ]
    }
   ],
   "source": [
    "# Write your code here\n",
    "def f(x):\n",
    "    return 3 * x**2 + 12 * x\n",
    "\n",
    "def df(x):\n",
    "    return 6 * x + 12\n",
    "\n",
    "def gradient_descent(x, learning_rate=0.1, n_iters=100):\n",
    "    for _ in range(n_iters):\n",
    "        gradient = df(x)\n",
    "        x = x - learning_rate * gradient\n",
    "    return x\n",
    "\n",
    "x_initial = 10\n",
    "minimum_x = gradient_descent(x_initial)\n",
    "minimum_f = f(minimum_x)\n",
    "print(\"Minimum x:\", minimum_x)\n",
    "print(\"Minimum f(x):\", minimum_f)\n"
   ]
  },
  {
   "cell_type": "markdown",
   "metadata": {},
   "source": [
    "# Q2 PyTorch autograd [25 pts]\n",
    "2.1) [10pts] Reimplement df(x) for getting the gradient of f(x) (done in Q1.3) using PyTorch autograd \\\n",
    "Test the function by calling it with $x=3.0$ and print the result"
   ]
  },
  {
   "cell_type": "code",
   "execution_count": 48,
   "metadata": {},
   "outputs": [
    {
     "name": "stdout",
     "output_type": "stream",
     "text": [
      "Result: 30.0\n"
     ]
    }
   ],
   "source": [
    "import torch\n",
    "\n",
    "def f(x):\n",
    "    return 3 * x**2 + 12 * x\n",
    "\n",
    "def df(x):\n",
    "    x_tensor = torch.tensor(float(x), requires_grad=True) \n",
    "    result = f(x_tensor)\n",
    "    result.backward()\n",
    "    gradient = x_tensor.grad.item()\n",
    "    return gradient\n",
    "\n",
    "\n",
    "result = df(3)\n",
    "print(\"Result:\", result)\n",
    "\n"
   ]
  },
  {
   "cell_type": "markdown",
   "metadata": {},
   "source": [
    "3.2) [15pts] Reimplement gradient_descent function (done in Q1.4) using PyTorch autograd \\\n",
    "Test the function by calling it with $x=10.0$ and print the result"
   ]
  },
  {
   "cell_type": "code",
   "execution_count": 54,
   "metadata": {},
   "outputs": [
    {
     "name": "stdout",
     "output_type": "stream",
     "text": [
      "x_min = tensor(-2., requires_grad=True) f(x_min) = tensor(-12., grad_fn=<AddBackward0>)\n"
     ]
    }
   ],
   "source": [
    "# Write your code here\n",
    "import torch\n",
    "\n",
    "def f(x):\n",
    "    return 3 * x**2 + 12 * x\n",
    "\n",
    "def gradient_descent(x, learning_rate=0.1, n_iters=100):\n",
    "    x_tensor = torch.tensor(float(x), requires_grad=True)\n",
    "    \n",
    "    for _ in range(n_iters):\n",
    "        result = f(x_tensor)\n",
    "        result.backward()\n",
    "        gradient = x_tensor.grad.item()\n",
    "        \n",
    "\n",
    "        with torch.no_grad():\n",
    "            x_tensor -= learning_rate * gradient\n",
    "        \n",
    "        x_tensor.grad.zero_()\n",
    "    \n",
    "    return x_tensor, f(x_tensor)\n",
    "\n",
    "\n",
    "minimum_x, minimum_f = gradient_descent(10)\n",
    "print(\"x_min =\", minimum_x, \"f(x_min) =\", minimum_f)\n"
   ]
  },
  {
   "cell_type": "markdown",
   "metadata": {},
   "source": [
    "# Q3 Train a NN using IRIS dataset (50 pts)"
   ]
  },
  {
   "cell_type": "code",
   "execution_count": 59,
   "metadata": {},
   "outputs": [
    {
     "name": "stdout",
     "output_type": "stream",
     "text": [
      "Number of features:  4\n",
      "Number of classes:  3\n",
      "Length of train dataset:  120\n",
      "Length of test dataset:  30\n"
     ]
    }
   ],
   "source": [
    "# Import the iris dataset from sklearn\n",
    "iris = load_iris()\n",
    "X = iris['data']\n",
    "y = iris['target']\n",
    "y_class = iris['target_names']\n",
    "feature_names = iris['feature_names']\n",
    "\n",
    "\n",
    "scaler = StandardScaler()\n",
    "X_scaled = scaler.fit_transform(X)\n",
    "\n",
    "X_train, X_test, y_train, y_test = train_test_split(\n",
    "    X_scaled, y, test_size=0.2, random_state=42)\n",
    "\n",
    "print(\"Number of features: \", X.shape[1])\n",
    "print(\"Number of classes: \", len(y_class))\n",
    "print(\"Length of train dataset: \", X_train.shape[0])\n",
    "print(\"Length of test dataset: \", X_test.shape[0])\n",
    "\n",
    "\n",
    "X_train = torch.tensor(X_train, dtype=torch.float32)\n",
    "y_train = torch.tensor(y_train, dtype=torch.int64)\n",
    "X_test = torch.tensor(X_test, dtype=torch.float32)\n",
    "y_test = torch.tensor(y_test, dtype=torch.int64)"
   ]
  },
  {
   "cell_type": "markdown",
   "metadata": {},
   "source": [
    "3.1) [20pts] Create a neural network model with the following architecture:\n",
    "- Input layer\n",
    "- Hidden layer with 64 units and ReLU activation\n",
    "- Hidden layer with 32 units and ReLU activation\n",
    "- Output layer with 3 units and softmax activation"
   ]
  },
  {
   "cell_type": "code",
   "execution_count": 63,
   "metadata": {},
   "outputs": [
    {
     "name": "stdout",
     "output_type": "stream",
     "text": [
      "NeuralNetwork(\n",
      "  (fc1): Linear(in_features=10, out_features=64, bias=True)\n",
      "  (relu1): ReLU()\n",
      "  (fc2): Linear(in_features=64, out_features=32, bias=True)\n",
      "  (relu2): ReLU()\n",
      "  (fc3): Linear(in_features=32, out_features=3, bias=True)\n",
      "  (softmax): Softmax(dim=1)\n",
      ")\n"
     ]
    }
   ],
   "source": [
    "# Write your code here\n",
    "import torch\n",
    "import torch.nn as nn\n",
    "\n",
    "class NeuralNetwork(nn.Module):\n",
    "    def __init__(self, input_size, hidden_size1, hidden_size2, output_size):\n",
    "        super(NeuralNetwork, self).__init__()\n",
    "        self.fc1 = nn.Linear(input_size, hidden_size1)\n",
    "        self.relu1 = nn.ReLU()\n",
    "        self.fc2 = nn.Linear(hidden_size1, hidden_size2)\n",
    "        self.relu2 = nn.ReLU()\n",
    "        self.fc3 = nn.Linear(hidden_size2, output_size)\n",
    "        self.softmax = nn.Softmax(dim=1)\n",
    "\n",
    "    def forward(self, x):\n",
    "        x = self.fc1(x)\n",
    "        x = self.relu1(x)\n",
    "        x = self.fc2(x)\n",
    "        x = self.relu2(x)\n",
    "        x = self.fc3(x)\n",
    "        x = self.softmax(x)\n",
    "        return x\n",
    "\n",
    "input_size = 10\n",
    "hidden_size1 = 64\n",
    "hidden_size2 = 32\n",
    "output_size = 3\n",
    "\n",
    "\n",
    "model = NeuralNetwork(input_size, hidden_size1, hidden_size2, output_size)\n",
    "\n",
    "\n",
    "print(model)\n"
   ]
  },
  {
   "cell_type": "markdown",
   "metadata": {},
   "source": [
    "3.2) [20pts] Train the model for 100 epochs and print the training loss every 10 iteration during the training \\\n",
    "- Use the Adam optimizer, CrossEntropyLoss function and a Learning Rate of 0.01"
   ]
  },
  {
   "cell_type": "code",
   "execution_count": 79,
   "metadata": {},
   "outputs": [
    {
     "name": "stdout",
     "output_type": "stream",
     "text": [
      "Epoch [10/100], Loss: 0.7508\n",
      "Epoch [20/100], Loss: 0.6066\n",
      "Epoch [30/100], Loss: 0.5797\n",
      "Epoch [40/100], Loss: 0.5729\n",
      "Epoch [50/100], Loss: 0.5692\n",
      "Epoch [60/100], Loss: 0.5666\n",
      "Epoch [70/100], Loss: 0.5643\n",
      "Epoch [80/100], Loss: 0.5625\n",
      "Epoch [90/100], Loss: 0.5616\n",
      "Epoch [100/100], Loss: 0.5611\n"
     ]
    }
   ],
   "source": [
    "# Import necessary libraries\n",
    "from sklearn.datasets import load_iris\n",
    "from sklearn.model_selection import train_test_split\n",
    "from sklearn.preprocessing import StandardScaler\n",
    "import torch\n",
    "import torch.nn as nn\n",
    "import torch.optim as optim\n",
    "\n",
    "# Import iris dataset from sklearn\n",
    "iris = load_iris()\n",
    "X = iris['data']\n",
    "y = iris['target']\n",
    "\n",
    "# Scale data to have mean 0 and variance 1\n",
    "scaler = StandardScaler()\n",
    "X_scaled = scaler.fit_transform(X)\n",
    "\n",
    "# Split the dataset into training and testing sets\n",
    "X_train, X_test, y_train, y_test = train_test_split(\n",
    "    X_scaled, y, test_size=0.2, random_state=42)\n",
    "\n",
    "# Convert numpy arrays to PyTorch tensors\n",
    "X_train = torch.tensor(X_train, dtype=torch.float32)\n",
    "y_train = torch.tensor(y_train, dtype=torch.int64)\n",
    "\n",
    "# Define the dimensions\n",
    "input_size = X_train.shape[1]\n",
    "output_size = len(set(y))\n",
    "\n",
    "# Instantiate the existing neural network model\n",
    "model = NeuralNetwork(input_size, hidden_size1, hidden_size2, output_size)\n",
    "\n",
    "# Define loss function and optimizer\n",
    "criterion = nn.CrossEntropyLoss()\n",
    "optimizer = optim.Adam(model.parameters(), lr=0.01)\n",
    "\n",
    "\n",
    "epochs = 100\n",
    "for epoch in range(epochs):\n",
    "    optimizer.zero_grad()  \n",
    "    outputs = model(X_train)  \n",
    "    loss = criterion(outputs, y_train) \n",
    "    loss.backward()  \n",
    "    optimizer.step()  \n",
    "\n",
    "    if (epoch + 1) % 10 == 0:\n",
    "        print(f'Epoch [{epoch+1}/{epochs}], Loss: {loss.item():.4f}')\n",
    "\n"
   ]
  },
  {
   "cell_type": "markdown",
   "metadata": {},
   "source": [
    "3.3) [10pts] Test the model on the test set and print the following:\n",
    "- Print the first 5 model predictions, predicted classes and actual classes\n",
    "- Compute and print the accuracy of the model"
   ]
  },
  {
   "cell_type": "code",
   "execution_count": 83,
   "metadata": {},
   "outputs": [
    {
     "name": "stdout",
     "output_type": "stream",
     "text": [
      "First 5 model predictions (y_pred) :  tensor([[    0.0000,     1.0000,     0.0000],\n",
      "        [    1.0000,     0.0000,     0.0000],\n",
      "        [    0.0000,     0.0000,     1.0000],\n",
      "        [    0.0000,     0.9992,     0.0008],\n",
      "        [    0.0000,     1.0000,     0.0000]])\n",
      "First 5 predicted classes :  tensor([1, 0, 2, 1, 1])\n",
      "First 5 actual classes (y_test) :  tensor([1, 0, 2, 1, 1])\n",
      "Accuracy: 100.0\n"
     ]
    }
   ],
   "source": [
    "X_test_tensor = torch.tensor(X_test, dtype=torch.float32)\n",
    "y_test_tensor = torch.tensor(y_test, dtype=torch.int64)\n",
    "\n",
    "with torch.no_grad():\n",
    "    outputs = model(X_test_tensor)\n",
    "    _, predicted = torch.max(outputs, 1)\n",
    "\n",
    "rounded_outputs = torch.round(outputs * 10000) / 10000\n",
    "\n",
    "print(\"First 5 model predictions (y_pred) : \", rounded_outputs[:5])\n",
    "print(\"First 5 predicted classes : \", predicted[:5])\n",
    "print(\"First 5 actual classes (y_test) : \", y_test_tensor[:5])\n",
    "\n",
    "correct = (predicted == y_test_tensor).sum().item()\n",
    "total = y_test_tensor.size(0)\n",
    "accuracy = correct / total * 100\n",
    "\n",
    "print(\"Accuracy:\", accuracy)\n"
   ]
  }
 ],
 "metadata": {
  "kernelspec": {
   "display_name": "Python 3 (ipykernel)",
   "language": "python",
   "name": "python3"
  },
  "language_info": {
   "codemirror_mode": {
    "name": "ipython",
    "version": 3
   },
   "file_extension": ".py",
   "mimetype": "text/x-python",
   "name": "python",
   "nbconvert_exporter": "python",
   "pygments_lexer": "ipython3",
   "version": "3.12.2"
  },
  "nav_menu": {},
  "toc": {
   "navigate_menu": true,
   "number_sections": true,
   "sideBar": true,
   "threshold": 6,
   "toc_cell": false,
   "toc_section_display": "block",
   "toc_window_display": false
  }
 },
 "nbformat": 4,
 "nbformat_minor": 4
}
