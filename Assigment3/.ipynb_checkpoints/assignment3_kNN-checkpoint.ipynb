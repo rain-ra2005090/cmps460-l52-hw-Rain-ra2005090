{
 "cells": [
  {
   "cell_type": "markdown",
   "metadata": {},
   "source": [
    "# Assignment 3 - kNN - due by `2pm on Thursday 4/4/2024`"
   ]
  },
  {
   "cell_type": "markdown",
   "metadata": {},
   "source": [
    "submission deadline was postponed to 12pm on Thursday 4/4/2024"
   ]
  },
  {
   "cell_type": "markdown",
   "metadata": {},
   "source": [
    "In this assignment you will build and test a model for glass classification using kNN\n",
    "\n",
    "`glass.csv` dataset contains 7 features that determine the glass type (e.g., the quantity of Mg: Magnesium, AI: Aluminum, Si: Silicon). The last column of the dataset is the type of glass (e.g., 1: windows float, 2: windows non-float, 3: vehicle float, 4: vehicle non-float, 5: containers, 6: tableware, 7: headlamps)"
   ]
  },
  {
   "cell_type": "code",
   "execution_count": 78,
   "metadata": {},
   "outputs": [],
   "source": [
    "#import dependencies\n",
    "import pandas as pd\n",
    "import numpy as np\n",
    "import matplotlib.pyplot as plt\n",
    "from sklearn.neighbors import KNeighborsClassifier\n",
    "from sklearn.model_selection import train_test_split\n",
    "from sklearn.preprocessing import StandardScaler\n",
    "from sklearn.metrics import confusion_matrix, ConfusionMatrixDisplay\n",
    "from sklearn.metrics import accuracy_score"
   ]
  },
  {
   "cell_type": "code",
   "execution_count": 79,
   "metadata": {},
   "outputs": [
    {
     "name": "stdout",
     "output_type": "stream",
     "text": [
      "Features:\n",
      "         RI     Na    Mg    Al     Si   Ba    Fe\n",
      "0  1.51892  13.46  3.83  1.26  72.55  0.0  0.14\n",
      "1  1.51673  13.30  3.64  1.53  72.53  0.0  0.29\n",
      "2  1.51596  13.02  3.56  1.54  73.11  0.0  0.00\n",
      "3  1.52210  13.73  3.84  0.72  71.76  0.0  0.00\n",
      "4  1.51926  13.20  3.33  1.28  72.36  0.0  0.11\n",
      "Target (5 elements):\n",
      " [2 2 2 1 1]\n"
     ]
    }
   ],
   "source": [
    "#load the dataset\n",
    "df = pd.read_csv('glass.csv')\n",
    "features = df.drop('Type', axis=1)\n",
    "y = df['Type'].values\n",
    "\n",
    "print(\"Features:\\n\", features.head(5))\n",
    "print(\"Target (5 elements):\\n\", y[:5])\n"
   ]
  },
  {
   "cell_type": "markdown",
   "metadata": {},
   "source": [
    "`1)` [5 pts] Feature Scaling\n",
    "- Scaling is necessary for distance-based algorithms such as kNN. This is to prevent features with larger magnitudes from dominating the distance calculations.\n",
    "- Use a standard scaler to scale the features (i.e., scale all columns except the last glass type column). Store the scaled features in a numpy variable called `X`."
   ]
  },
  {
   "cell_type": "code",
   "execution_count": 80,
   "metadata": {
    "scrolled": true
   },
   "outputs": [
    {
     "name": "stdout",
     "output_type": "stream",
     "text": [
      "Scaled Features:\n",
      " [[ 0.18304402  0.06401124  0.7959975  -0.37122242 -0.13062009 -0.35287683\n",
      "   0.85371869]\n",
      " [-0.53978552 -0.13238167  0.66396446  0.17083549 -0.15650221 -0.35287683\n",
      "   2.39675754]\n",
      " [-0.79393107 -0.47606926  0.6083716   0.19091171  0.5940795  -0.35287683\n",
      "  -0.5864509 ]\n",
      " [ 1.23263212  0.39542427  0.8029466  -1.45533824 -1.15296414 -0.35287683\n",
      "  -0.5864509 ]\n",
      " [ 0.29526413 -0.25512724  0.44854214 -0.33106998 -0.3765003  -0.35287683\n",
      "   0.54511092]]\n",
      "Target (5 elements):\n",
      " [2 2 2 1 1]\n"
     ]
    }
   ],
   "source": [
    "# Write your code here\n",
    "import numpy as np\n",
    "from sklearn.preprocessing import StandardScaler\n",
    "scaler = StandardScaler()\n",
    "X = scaler.fit_transform(features)\n",
    "\n",
    "print(\"Scaled Features:\\n\", X[:5])\n",
    "print(\"Target (5 elements):\\n\", y[:5])"
   ]
  },
  {
   "cell_type": "markdown",
   "metadata": {},
   "source": [
    "`2)` [10 pts] Split the data into training and testing sets. Use 80% of the data for training and 20% for testing. Store the split data into numpy variables called `X_train`, `X_test`, `y_train`, `y_test`.\n",
    "\n",
    "<span style=\"color:red\">**Note:**</span>\n",
    "When splitting the dataset pass `shuffle=False` to the splitting function to avoid randomizing the data. This is important to get the same training and testing sets to ease grading.\n",
    "\n",
    "Then `display` the shape and the first 4 rows of `X_train`, `X_test`, `y_train`, `y_test`."
   ]
  },
  {
   "cell_type": "code",
   "execution_count": 81,
   "metadata": {},
   "outputs": [
    {
     "name": "stdout",
     "output_type": "stream",
     "text": [
      "X_train shape: (171, 7)\n",
      "y_train shape: (171,)\n",
      "X_test shape: (43, 7)\n",
      "y_test shape: (43,)\n",
      "\n",
      " X_train:\n",
      " [[ 0.18304402  0.06401124  0.7959975  -0.37122242 -0.13062009 -0.35287683\n",
      "   0.85371869]\n",
      " [-0.53978552 -0.13238167  0.66396446  0.17083549 -0.15650221 -0.35287683\n",
      "   2.39675754]\n",
      " [-0.79393107 -0.47606926  0.6083716   0.19091171  0.5940795  -0.35287683\n",
      "  -0.5864509 ]\n",
      " [ 1.23263212  0.39542427  0.8029466  -1.45533824 -1.15296414 -0.35287683\n",
      "  -0.5864509 ]]\n",
      "\n",
      " y_train: [2 2 2 1]\n",
      "\n",
      " X_test:\n",
      " [[-0.5892944   1.70880185 -1.86551055  1.09434156  0.5940795   3.09431342\n",
      "  -0.5864509 ]\n",
      " [ 1.59569719  0.38314972  0.71955732 -1.87693884 -1.1659052  -0.35287683\n",
      "   1.0594572 ]\n",
      " [ 1.57919423  0.03946213  0.45549124 -0.43145108 -0.35061817 -0.35287683\n",
      "  -0.5864509 ]\n",
      " [-0.81373462 -0.72156039  0.58057517  0.91365559  0.2705529  -0.35287683\n",
      "  -0.5864509 ]]\n",
      "y_test: [7 1 7 2]\n"
     ]
    }
   ],
   "source": [
    "# Write your code herefrom sklearn.model_selection import train_test_split\n",
    "\n",
    "# Split the data into training and testing sets\n",
    "X_train, X_test, y_train, y_test = train_test_split(X, y, test_size=0.20, shuffle=False)\n",
    "\n",
    "# Display the shape and first 4 rows of the split data\n",
    "print(\"X_train shape:\", X_train.shape)\n",
    "\n",
    "print(\"y_train shape:\", y_train.shape)\n",
    "print(\"X_test shape:\", X_test.shape)\n",
    "print(\"y_test shape:\", y_test.shape)\n",
    "\n",
    "print(\"\\n X_train:\\n\", X_train[:4])\n",
    "print(\"\\n y_train:\", y_train[:4])\n",
    "print(\"\\n X_test:\\n\", X_test[:4])\n",
    "\n",
    "print(\"y_test:\", y_test[:4])\n"
   ]
  },
  {
   "cell_type": "markdown",
   "metadata": {},
   "source": [
    "`3)` [10 pts] Write a function `l1_distance` for calculating the manhattan distance between 2 arrays. The function should take 2 arrays as input and return the manhattan distance.\n",
    "\n",
    "The manhattan distance is the sum of the absolute difference between the elements of the 2 arrays: $L_1(p,q)=\\sum_{i=1}^d \\big | p_i-q_i \\big |$"
   ]
  },
  {
   "cell_type": "code",
   "execution_count": 82,
   "metadata": {},
   "outputs": [],
   "source": [
    "# write a function that calculates the L1 distance between two 1 dimensional numpy array \n",
    "# Avoid using loops. Use numpy functions to calculate the L1 manhattan distance.\n",
    "\n",
    "def l1_distance(p,q):\n",
    "    return np.sum(np.abs(p - q))\n",
    "    #Write your code here\n"
   ]
  },
  {
   "cell_type": "code",
   "execution_count": 83,
   "metadata": {},
   "outputs": [
    {
     "name": "stdout",
     "output_type": "stream",
     "text": [
      "Dimensionality of p: 2 & q: 2\n",
      "L1 distance: 3.00\n",
      "X_test 1st row:\n",
      " [-0.5892944   1.70880185 -1.86551055  1.09434156  0.5940795   3.09431342\n",
      " -0.5864509 ]\n",
      "X_train 1st row:\n",
      " [ 0.18304402  0.06401124  0.7959975  -0.37122242 -0.13062009 -0.35287683\n",
      "  0.85371869]\n",
      "L1 distance: 12.16\n"
     ]
    }
   ],
   "source": [
    "# Testing L1 function\n",
    "p = np.array([2,3])\n",
    "q = np.array([3,5])\n",
    "print(f\"Dimensionality of p: {p.shape[0]} & q: {q.shape[0]}\")\n",
    "d1 = l1_distance(p,q)\n",
    "print(f\"L1 distance: {d1:.2f}\") #Prints 3\n",
    "\n",
    "print(\"X_test 1st row:\\n\", X_test[0,:])\n",
    "print(\"X_train 1st row:\\n\", X_train[0,:])\n",
    "d1 = l1_distance(X_test[0,:], X_train[0,:]) \n",
    "print(f\"L1 distance: {d1:.2f}\") #Prints 12.16"
   ]
  },
  {
   "cell_type": "markdown",
   "metadata": {},
   "source": [
    "`4)` [10 pts] Write a function `l2_distance` for calculating the euclidean distance between 2 arrays. The function should take 2 arrays as input and return the euclidean distance.\n",
    "\n",
    "$L_2(p,q)=\\sqrt{\\sum_{i=1}^d (p_i-q_i)^2}$"
   ]
  },
  {
   "cell_type": "code",
   "execution_count": 84,
   "metadata": {},
   "outputs": [],
   "source": [
    "# Write a function that calculates the L2 distance between two 1 dimensional numpy array\n",
    "# Avoid using loops. Use numpy functions to calculate the L2 euclidean distance.\n",
    "def l2_distance(p,q):\n",
    "    return np.sqrt(np.sum((p - q)**2))\n",
    "  "
   ]
  },
  {
   "cell_type": "code",
   "execution_count": 85,
   "metadata": {},
   "outputs": [
    {
     "name": "stdout",
     "output_type": "stream",
     "text": [
      "Dimensionality of p: 2 & q: 2\n",
      "L2 distance: 2.24\n",
      "X_test 1st row:\n",
      " [-0.5892944   1.70880185 -1.86551055  1.09434156  0.5940795   3.09431342\n",
      " -0.5864509 ]\n",
      "X_train 1st row:\n",
      " [ 0.18304402  0.06401124  0.7959975  -0.37122242 -0.13062009 -0.35287683\n",
      "  0.85371869]\n",
      "L2 distance: 5.20\n"
     ]
    }
   ],
   "source": [
    "# Testing L2 function\n",
    "p = np.array([2,3])\n",
    "q = np.array([3,5])\n",
    "print(f\"Dimensionality of p: {p.shape[0]} & q: {q.shape[0]}\")\n",
    "d2 = l2_distance(p,q)\n",
    "print(f\"L2 distance: {d2:.2f}\") #Prints 2.24\n",
    "\n",
    "print(\"X_test 1st row:\\n\", X_test[0,:])\n",
    "print(\"X_train 1st row:\\n\", X_train[0,:])\n",
    "\n",
    "# Distance between the first row of X_test and the first row of X_train\n",
    "d2 = l2_distance(X_test[0,:], X_train[0,:]) \n",
    "print(f\"L2 distance: {d2:.2f}\") # Prints 5.2"
   ]
  },
  {
   "cell_type": "markdown",
   "metadata": {},
   "source": [
    "`5.` [15pts] Write a function that finds the nearest neighbors using the L2 manhattan distance. The function should take 3 inputs: the training data X, the point p, and the value of k. The function should return the indices of the k-nearest neighbors of point p in X."
   ]
  },
  {
   "cell_type": "code",
   "execution_count": 86,
   "metadata": {},
   "outputs": [],
   "source": [
    "import numpy as np\n",
    "\n",
    "def find_knn(X, p, k=3):\n",
    "    \"\"\"\n",
    "    Find the k nearest neighbors of point p in X using L2 distance\n",
    "    Parameters:\n",
    "    - X: numpy array of shape (n_samples, n_features) representing the dataset.\n",
    "    - p: numpy array of shape (n_features,) representing the point of classify.\n",
    "    - k: integer specifying the number of nearest neighbors to find.\n",
    "    Returns the indices of the k nearest neighbors of point p in X.\n",
    "    \"\"\"\n",
    "\n",
    "    #function body\n",
    "    distances = np.sqrt(np.sum((X - p)**2, axis=1))\n",
    "    \n",
    "    knn_indices = np.argsort(distances)[:k]\n",
    "    \n",
    "    return knn_indices\n",
    "\n",
    "    \n",
    "    # Number of points in X\n",
    "    n = X.shape[0]\n"
   ]
  },
  {
   "cell_type": "code",
   "execution_count": 87,
   "metadata": {},
   "outputs": [
    {
     "name": "stdout",
     "output_type": "stream",
     "text": [
      "Indices of the 3 nearest neighbors of point p:\n",
      "[140 145 168]\n",
      "\n",
      "3 nearest neighbors of point p:\n",
      "[[ 1.1237126  -0.25512724  0.69176089 -0.59206083  0.12820119 -0.35287683\n",
      "  -0.5864509 ]\n",
      " [ 1.52968536 -0.12010711  0.62226982 -1.25457605 -0.85531967 -0.35287683\n",
      "  -0.27784313]\n",
      " [ 1.27553981 -0.24285268  0.75430285 -1.31480471 -0.85531967 -0.35287683\n",
      "  -0.5864509 ]]\n",
      "\n",
      "Class labels of 3 nearest neighbors of point p:\n",
      "[2 1 1]\n"
     ]
    }
   ],
   "source": [
    "# Test find_knn function\n",
    "k = 3\n",
    "# Point to classify - 3rd row of the test set\n",
    "p = X_test[2]\n",
    "neighbors_indices = find_knn(X_train, p, k)\n",
    "\n",
    "# Print the indices of the nearest neighbors\n",
    "print(f\"Indices of the {k} nearest neighbors of point p:\")\n",
    "print(neighbors_indices) # Should print [140 145 168]\n",
    "\n",
    "# Print the nearest neighbors\n",
    "print(f\"\\n{k} nearest neighbors of point p:\")\n",
    "print(X_train[neighbors_indices])\n",
    "\n",
    "# Print the class labels of the k neighbors\n",
    "print(f\"\\nClass labels of {k} nearest neighbors of point p:\")\n",
    "print(y_train[neighbors_indices])  # Should print [2 1 1]"
   ]
  },
  {
   "cell_type": "markdown",
   "metadata": {},
   "source": [
    "`5)` [10pts] Write a function `find_majority_label` that takes the indices of the k nearest neighbors and returns the majority label. "
   ]
  },
  {
   "cell_type": "code",
   "execution_count": 88,
   "metadata": {},
   "outputs": [],
   "source": [
    "# Find the majority label of the neighbors\n",
    "# Tip: Use the mode function from the statistics package\n",
    "from statistics import mode\n",
    "\n",
    "def find_majority_label(neighbors_indices, y_train):\n",
    "    neighbor_labels = y_train[neighbors_indices]\n",
    "    majority_label = mode(neighbor_labels)\n",
    "    \n",
    "    return majority_label\n"
   ]
  },
  {
   "cell_type": "code",
   "execution_count": 89,
   "metadata": {},
   "outputs": [
    {
     "name": "stdout",
     "output_type": "stream",
     "text": [
      "Predicted class of point p: 1\n"
     ]
    }
   ],
   "source": [
    "# Test find_majority_label function\n",
    "y_pred = find_majority_label(neighbors_indices, y_train)\n",
    "print(f\"Predicted class of point p:\", y_pred) # Should print 1"
   ]
  },
  {
   "cell_type": "markdown",
   "metadata": {},
   "source": [
    "`6)` [15pts] KNN - Putting everything together.\n",
    "Write a function `predict` that predicts the label of a given point. The function should take 3 inputs: the training data X_train, the labels y_train, and X_test. \n",
    "The function should return the predicted labels for X_test."
   ]
  },
  {
   "cell_type": "code",
   "execution_count": 90,
   "metadata": {},
   "outputs": [],
   "source": [
    "import numpy as np\n",
    "from statistics import mode\n",
    "from sklearn.metrics import accuracy_score, confusion_matrix, ConfusionMatrixDisplay\n",
    "import matplotlib.pyplot as plt\n",
    "\n",
    "def find_knn(X, p, k=3):\n",
    "    distances = np.sqrt(np.sum((X - p)**2, axis=1))\n",
    "    knn_indices = np.argsort(distances)[:k]\n",
    "    return knn_indices\n",
    "\n",
    "def find_majority_label(neighbors_indices, y_train):\n",
    "    neighbor_labels = y_train[neighbors_indices]\n",
    "    majority_label = mode(neighbor_labels)\n",
    "    return float(majority_label) \n",
    "\n",
    "def predict(X_train, y_train, X_test, k=3):\n",
    "    y_pred = []\n",
    "    for point in X_test:\n",
    "        neighbors_indices = find_knn(X_train, point, k)\n",
    "        majority_label = find_majority_label(neighbors_indices, y_train)\n",
    "        y_pred.append(majority_label)\n",
    "    return np.array(y_pred)\n"
   ]
  },
  {
   "cell_type": "code",
   "execution_count": 91,
   "metadata": {},
   "outputs": [
    {
     "name": "stdout",
     "output_type": "stream",
     "text": [
      "Class labels of X_test and their frequency are:\n",
      " [[ 1.  2.  3.  5.  6.  7.]\n",
      " [20. 13.  1.  1.  2.  6.]]\n",
      "Testing Accuracy: 0.74\n"
     ]
    },
    {
     "data": {
      "image/png": "[encoded data removed]",
      "text/plain": [
       "<Figure size 640x480 with 2 Axes>"
      ]
     },
     "metadata": {},
     "output_type": "display_data"
    }
   ],
   "source": [
    "y_pred = predict(X_train, y_train, X_test, k=3)\n",
    "# Get unique values and their frequency \n",
    "unique, frequency = np.unique(y_pred, return_counts = True) \n",
    "count = np.asarray((unique, frequency ))\n",
    "\"\"\" Should print:\n",
    " [[ 1.  2.  3.  5.  6.  7.]\n",
    " [20. 13.  1.  1.  2.  6.]]\n",
    "\"\"\"\n",
    "print(\"Class labels of X_test and their frequency are:\\n\", count)\n",
    "accuracy = accuracy_score(y_test, y_pred)\n",
    "print(f\"Testing Accuracy: {accuracy:.2f}\") # Should print 0.74\n",
    "\n",
    "cm = confusion_matrix(y_test, y_pred) \n",
    "disp = ConfusionMatrixDisplay(confusion_matrix=cm)\n",
    "disp.plot()\n",
    "plt.show()"
   ]
  },
  {
   "cell_type": "markdown",
   "metadata": {},
   "source": [
    "`5)` [10pts] Train and test a kNN model using SicketLearn's KNeighborsClassifier. Compare the accuracy of the two models.\n",
    "\n",
    "The accuracy of SicketLearn's KNeighborsClassifier should be similar to the one returned by your own classifier."
   ]
  },
  {
   "cell_type": "code",
   "execution_count": 92,
   "metadata": {},
   "outputs": [
    {
     "name": "stdout",
     "output_type": "stream",
     "text": [
      "Testing Accuracy with L2 distance: 0.72\n"
     ]
    }
   ],
   "source": [
    "from sklearn.neighbors import KNeighborsClassifier\n",
    "from sklearn.metrics import accuracy_score\n",
    "\n",
    "knn_model_sklearn = KNeighborsClassifier(n_neighbors=3, metric='euclidean')  \n",
    "knn_model_sklearn.fit(X_train, y_train)\n",
    "y_pred_sklearn = knn_model_sklearn.predict(X_test)\n",
    "accuracy_sklearn = accuracy_score(y_test, y_pred_sklearn)\n",
    "\n",
    "print(\"Testing Accuracy with L2 distance: {:.2f}\".format(accuracy_sklearn))\n"
   ]
  },
  {
   "cell_type": "markdown",
   "metadata": {},
   "source": [
    "7) [15 pts] Evaluate the kNN for different values of k from 2 to 20 to find optimal k that returns the best accuracy.\n",
    "- Use KNeighborsClassifier with Eclidean distance, p=2\n",
    "- Evaluate the classifier on different values of k from 2 to 20 and find the best k\n",
    "- Plot the model accuracy for each k"
   ]
  },
  {
   "cell_type": "code",
   "execution_count": 93,
   "metadata": {},
   "outputs": [
    {
     "name": "stdout",
     "output_type": "stream",
     "text": [
      "k=2 Accuracy score: 0.6511627906976745\n",
      "k=3 Accuracy score: 0.7209302325581395\n",
      "k=4 Accuracy score: 0.6976744186046512\n",
      "k=5 Accuracy score: 0.6511627906976745\n",
      "k=6 Accuracy score: 0.6046511627906976\n",
      "k=7 Accuracy score: 0.627906976744186\n",
      "k=8 Accuracy score: 0.6046511627906976\n",
      "k=9 Accuracy score: 0.627906976744186\n",
      "k=10 Accuracy score: 0.5813953488372093\n",
      "k=11 Accuracy score: 0.5813953488372093\n",
      "k=12 Accuracy score: 0.5813953488372093\n",
      "k=13 Accuracy score: 0.5813953488372093\n",
      "k=14 Accuracy score: 0.5813953488372093\n",
      "k=15 Accuracy score: 0.6046511627906976\n",
      "k=16 Accuracy score: 0.6046511627906976\n",
      "k=17 Accuracy score: 0.5813953488372093\n",
      "k=18 Accuracy score: 0.6046511627906976\n",
      "k=19 Accuracy score: 0.6046511627906976\n",
      "k=20 Accuracy score: 0.6046511627906976\n",
      "Best k: 3\n"
     ]
    },
    {
     "data": {
      "image/png": "[encoded data removed]",
      "text/plain": [
       "<Figure size 1000x600 with 1 Axes>"
      ]
     },
     "metadata": {},
     "output_type": "display_data"
    }
   ],
   "source": [
    "import numpy as np\n",
    "import matplotlib.pyplot as plt\n",
    "from sklearn.neighbors import KNeighborsClassifier\n",
    "from sklearn.metrics import accuracy_score\n",
    "\n",
    "accuracies = []\n",
    "k_values = range(2, 21)\n",
    "\n",
    "for k in k_values:\n",
    "    knn_model_sklearn = KNeighborsClassifier(n_neighbors=k, p=2)\n",
    "    knn_model_sklearn.fit(X_train, y_train)\n",
    "    y_pred_sklearn = knn_model_sklearn.predict(X_test)\n",
    "    \n",
    "    accuracy = accuracy_score(y_test, y_pred_sklearn)\n",
    "    accuracies.append(accuracy)\n",
    "\n",
    "    print(f\"k={k} Accuracy score: {accuracy}\")\n",
    "\n",
    "best_k = k_values[np.argmax(accuracies)]\n",
    "best_accuracy = max(accuracies)\n",
    "print(\"Best k:\", best_k)\n",
    "plt.figure(figsize=(10, 6))\n",
    "plt.plot(k_values, accuracies, linestyle='--', color='blue')\n",
    "plt.scatter(k_values, accuracies, marker='o', color='red', zorder=10)\n",
    "\n",
    "plt.xlabel('k')\n",
    "plt.ylabel('Accuracy score')\n",
    "plt.xticks(np.arange(2.5, 21, 2.5))\n",
    "plt.tight_layout()\n",
    "plt.show()\n"
   ]
  },
  {
   "cell_type": "code",
   "execution_count": 94,
   "metadata": {},
   "outputs": [
    {
     "name": "stdout",
     "output_type": "stream",
     "text": [
      "Testing Accuracy: 0.72\n"
     ]
    }
   ],
   "source": [
    "# Train  KNeighborsClassifier using best_k and p=2\n",
    "# Test the model on X_test\n",
    "model = KNeighborsClassifier(n_neighbors=best_k, p=2)\n",
    "model.fit(X_train, y_train)\n",
    "y_pred= model.predict(X_test)\n",
    "accuracy = accuracy_score(y_test, y_pred)\n",
    "print(f\"Testing Accuracy: {accuracy:.2f}\") # Should print 0.72"
   ]
  },
  {
   "cell_type": "code",
   "execution_count": null,
   "metadata": {},
   "outputs": [],
   "source": []
  }
 ],
 "metadata": {
  "gist": {
   "data": {
    "description": "Assignment 13 - KNN.ipynb",
    "public": true
   },
   "id": ""
  },
  "kernelspec": {
   "display_name": "Python 3 (ipykernel)",
   "language": "python",
   "name": "python3"
  },
  "language_info": {
   "codemirror_mode": {
    "name": "ipython",
    "version": 3
   },
   "file_extension": ".py",
   "mimetype": "text/x-python",
   "name": "python",
   "nbconvert_exporter": "python",
   "pygments_lexer": "ipython3",
   "version": "3.12.2"
  }
 },
 "nbformat": 4,
 "nbformat_minor": 4
}
